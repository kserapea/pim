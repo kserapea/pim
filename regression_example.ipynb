{
 "cells": [
  {
   "cell_type": "markdown",
   "id": "excess-sailing",
   "metadata": {},
   "source": [
    "# Regression Example"
   ]
  },
  {
   "cell_type": "markdown",
   "id": "enclosed-watershed",
   "metadata": {},
   "source": [
    "Example using the [seaborn tips data](https://github.com/mwaskom/seaborn-data/blob/master/tips.csv) to simulate a regression."
   ]
  },
  {
   "cell_type": "code",
   "execution_count": 1,
   "id": "modern-simulation",
   "metadata": {},
   "outputs": [
    {
     "name": "stdout",
     "output_type": "stream",
     "text": [
      "%pylab is deprecated, use %matplotlib inline and import the required libraries.\n",
      "Populating the interactive namespace from numpy and matplotlib\n"
     ]
    },
    {
     "name": "stderr",
     "output_type": "stream",
     "text": [
      "/opt/anaconda3/envs/statcomp/lib/python3.10/site-packages/statsmodels/compat/pandas.py:65: FutureWarning: pandas.Int64Index is deprecated and will be removed from pandas in a future version. Use pandas.Index with the appropriate dtype instead.\n",
      "  from pandas import Int64Index as NumericIndex\n"
     ]
    }
   ],
   "source": [
    "import pandas as pd\n",
    "import seaborn as sb\n",
    "from patsy.highlevel import dmatrices\n",
    "from matplotlib.axes import Axes\n",
    "from matplotlib.figure import Figure\n",
    "import statsmodels.formula.api as smf\n",
    "\n",
    "%pylab inline"
   ]
  },
  {
   "cell_type": "markdown",
   "id": "changing-neutral",
   "metadata": {},
   "source": [
    "Import tips data from Seaborn"
   ]
  },
  {
   "cell_type": "code",
   "execution_count": 2,
   "id": "atlantic-appeal",
   "metadata": {},
   "outputs": [
    {
     "data": {
      "text/html": [
       "<div>\n",
       "<style scoped>\n",
       "    .dataframe tbody tr th:only-of-type {\n",
       "        vertical-align: middle;\n",
       "    }\n",
       "\n",
       "    .dataframe tbody tr th {\n",
       "        vertical-align: top;\n",
       "    }\n",
       "\n",
       "    .dataframe thead th {\n",
       "        text-align: right;\n",
       "    }\n",
       "</style>\n",
       "<table border=\"1\" class=\"dataframe\">\n",
       "  <thead>\n",
       "    <tr style=\"text-align: right;\">\n",
       "      <th></th>\n",
       "      <th>total_bill</th>\n",
       "      <th>tip</th>\n",
       "      <th>sex</th>\n",
       "      <th>smoker</th>\n",
       "      <th>day</th>\n",
       "      <th>time</th>\n",
       "      <th>size</th>\n",
       "    </tr>\n",
       "  </thead>\n",
       "  <tbody>\n",
       "    <tr>\n",
       "      <th>0</th>\n",
       "      <td>16.99</td>\n",
       "      <td>1.01</td>\n",
       "      <td>Female</td>\n",
       "      <td>No</td>\n",
       "      <td>Sun</td>\n",
       "      <td>Dinner</td>\n",
       "      <td>2</td>\n",
       "    </tr>\n",
       "    <tr>\n",
       "      <th>1</th>\n",
       "      <td>10.34</td>\n",
       "      <td>1.66</td>\n",
       "      <td>Male</td>\n",
       "      <td>No</td>\n",
       "      <td>Sun</td>\n",
       "      <td>Dinner</td>\n",
       "      <td>3</td>\n",
       "    </tr>\n",
       "    <tr>\n",
       "      <th>2</th>\n",
       "      <td>21.01</td>\n",
       "      <td>3.50</td>\n",
       "      <td>Male</td>\n",
       "      <td>No</td>\n",
       "      <td>Sun</td>\n",
       "      <td>Dinner</td>\n",
       "      <td>3</td>\n",
       "    </tr>\n",
       "    <tr>\n",
       "      <th>3</th>\n",
       "      <td>23.68</td>\n",
       "      <td>3.31</td>\n",
       "      <td>Male</td>\n",
       "      <td>No</td>\n",
       "      <td>Sun</td>\n",
       "      <td>Dinner</td>\n",
       "      <td>2</td>\n",
       "    </tr>\n",
       "    <tr>\n",
       "      <th>4</th>\n",
       "      <td>24.59</td>\n",
       "      <td>3.61</td>\n",
       "      <td>Female</td>\n",
       "      <td>No</td>\n",
       "      <td>Sun</td>\n",
       "      <td>Dinner</td>\n",
       "      <td>4</td>\n",
       "    </tr>\n",
       "  </tbody>\n",
       "</table>\n",
       "</div>"
      ],
      "text/plain": [
       "   total_bill   tip     sex smoker  day    time  size\n",
       "0       16.99  1.01  Female     No  Sun  Dinner     2\n",
       "1       10.34  1.66    Male     No  Sun  Dinner     3\n",
       "2       21.01  3.50    Male     No  Sun  Dinner     3\n",
       "3       23.68  3.31    Male     No  Sun  Dinner     2\n",
       "4       24.59  3.61  Female     No  Sun  Dinner     4"
      ]
     },
     "execution_count": 2,
     "metadata": {},
     "output_type": "execute_result"
    }
   ],
   "source": [
    "data: pd.DataFrame = sb.load_dataset(\"tips\")\n",
    "data.head()"
   ]
  },
  {
   "cell_type": "markdown",
   "id": "fossil-setup",
   "metadata": {},
   "source": [
    "## Question: On average, who tips more (percentage wise), men or women?\n",
    "Looking at the percentage of tips in relation to total bill seeks to isolate the size of the bill from gender as a factor in tip size. (normalized)"
   ]
  },
  {
   "cell_type": "markdown",
   "id": "opening-identity",
   "metadata": {},
   "source": [
    "outcome = tip as a percentage of total bill (compute)\n",
    "drivers (inputs) = gender\n",
    "\n",
    "we think that there is a difference across the genders and so we will regress the percentage of total bill on the gender"
   ]
  },
  {
   "cell_type": "code",
   "execution_count": 3,
   "id": "wound-lending",
   "metadata": {},
   "outputs": [
    {
     "data": {
      "text/plain": [
       "(DesignMatrix with shape (244, 1)\n",
       "   I(tip / total_bill)\n",
       "               0.05945\n",
       "               0.16054\n",
       "               0.16659\n",
       "               0.13978\n",
       "               0.14681\n",
       "               0.18624\n",
       "               0.22805\n",
       "               0.11607\n",
       "               0.13032\n",
       "               0.21854\n",
       "               0.16650\n",
       "               0.14180\n",
       "               0.10182\n",
       "               0.16278\n",
       "               0.20364\n",
       "               0.18165\n",
       "               0.16167\n",
       "               0.22775\n",
       "               0.20625\n",
       "               0.16223\n",
       "               0.22768\n",
       "               0.13553\n",
       "               0.14141\n",
       "               0.19229\n",
       "               0.16044\n",
       "               0.13139\n",
       "               0.14959\n",
       "               0.15760\n",
       "               0.19816\n",
       "               0.15267\n",
       "   [214 rows omitted]\n",
       "   Terms:\n",
       "     'I(tip / total_bill)' (column 0)\n",
       "   (to view full data, use np.asarray(this_obj)),\n",
       " DesignMatrix with shape (244, 2)\n",
       "   Intercept  C(sex)[T.Female]\n",
       "           1                 1\n",
       "           1                 0\n",
       "           1                 0\n",
       "           1                 0\n",
       "           1                 1\n",
       "           1                 0\n",
       "           1                 0\n",
       "           1                 0\n",
       "           1                 0\n",
       "           1                 0\n",
       "           1                 0\n",
       "           1                 1\n",
       "           1                 0\n",
       "           1                 0\n",
       "           1                 1\n",
       "           1                 0\n",
       "           1                 1\n",
       "           1                 0\n",
       "           1                 1\n",
       "           1                 0\n",
       "           1                 0\n",
       "           1                 1\n",
       "           1                 1\n",
       "           1                 0\n",
       "           1                 0\n",
       "           1                 0\n",
       "           1                 0\n",
       "           1                 0\n",
       "           1                 0\n",
       "           1                 1\n",
       "   [214 rows omitted]\n",
       "   Terms:\n",
       "     'Intercept' (column 0)\n",
       "     'C(sex)' (column 1)\n",
       "   (to view full data, use np.asarray(this_obj)))"
      ]
     },
     "execution_count": 3,
     "metadata": {},
     "output_type": "execute_result"
    }
   ],
   "source": [
    "dmatrices(\"I(tip / total_bill) ~ C(sex)\", data)"
   ]
  },
  {
   "cell_type": "code",
   "execution_count": 4,
   "id": "brown-military",
   "metadata": {},
   "outputs": [
    {
     "data": {
      "text/html": [
       "<table class=\"simpletable\">\n",
       "<caption>OLS Regression Results</caption>\n",
       "<tr>\n",
       "  <th>Dep. Variable:</th>    <td>I(tip / total_bill)</td> <th>  R-squared:         </th> <td>   0.005</td>\n",
       "</tr>\n",
       "<tr>\n",
       "  <th>Model:</th>                    <td>OLS</td>         <th>  Adj. R-squared:    </th> <td>   0.001</td>\n",
       "</tr>\n",
       "<tr>\n",
       "  <th>Method:</th>              <td>Least Squares</td>    <th>  F-statistic:       </th> <td>   1.174</td>\n",
       "</tr>\n",
       "<tr>\n",
       "  <th>Date:</th>              <td>Sun, 30 Jan 2022</td>   <th>  Prob (F-statistic):</th>  <td> 0.280</td> \n",
       "</tr>\n",
       "<tr>\n",
       "  <th>Time:</th>                  <td>11:10:40</td>       <th>  Log-Likelihood:    </th> <td>  337.02</td>\n",
       "</tr>\n",
       "<tr>\n",
       "  <th>No. Observations:</th>       <td>   244</td>        <th>  AIC:               </th> <td>  -670.0</td>\n",
       "</tr>\n",
       "<tr>\n",
       "  <th>Df Residuals:</th>           <td>   242</td>        <th>  BIC:               </th> <td>  -663.0</td>\n",
       "</tr>\n",
       "<tr>\n",
       "  <th>Df Model:</th>               <td>     1</td>        <th>                     </th>     <td> </td>   \n",
       "</tr>\n",
       "<tr>\n",
       "  <th>Covariance Type:</th>       <td>nonrobust</td>      <th>                     </th>     <td> </td>   \n",
       "</tr>\n",
       "</table>\n",
       "<table class=\"simpletable\">\n",
       "<tr>\n",
       "          <td></td>            <th>coef</th>     <th>std err</th>      <th>t</th>      <th>P>|t|</th>  <th>[0.025</th>    <th>0.975]</th>  \n",
       "</tr>\n",
       "<tr>\n",
       "  <th>Intercept</th>        <td>    0.1577</td> <td>    0.005</td> <td>   32.356</td> <td> 0.000</td> <td>    0.148</td> <td>    0.167</td>\n",
       "</tr>\n",
       "<tr>\n",
       "  <th>C(sex)[T.Female]</th> <td>    0.0088</td> <td>    0.008</td> <td>    1.083</td> <td> 0.280</td> <td>   -0.007</td> <td>    0.025</td>\n",
       "</tr>\n",
       "</table>\n",
       "<table class=\"simpletable\">\n",
       "<tr>\n",
       "  <th>Omnibus:</th>       <td>224.065</td> <th>  Durbin-Watson:     </th> <td>   2.052</td>\n",
       "</tr>\n",
       "<tr>\n",
       "  <th>Prob(Omnibus):</th> <td> 0.000</td>  <th>  Jarque-Bera (JB):  </th> <td>8063.450</td>\n",
       "</tr>\n",
       "<tr>\n",
       "  <th>Skew:</th>          <td> 3.389</td>  <th>  Prob(JB):          </th> <td>    0.00</td>\n",
       "</tr>\n",
       "<tr>\n",
       "  <th>Kurtosis:</th>      <td>30.335</td>  <th>  Cond. No.          </th> <td>    2.42</td>\n",
       "</tr>\n",
       "</table><br/><br/>Notes:<br/>[1] Standard Errors assume that the covariance matrix of the errors is correctly specified."
      ],
      "text/plain": [
       "<class 'statsmodels.iolib.summary.Summary'>\n",
       "\"\"\"\n",
       "                             OLS Regression Results                            \n",
       "===============================================================================\n",
       "Dep. Variable:     I(tip / total_bill)   R-squared:                       0.005\n",
       "Model:                             OLS   Adj. R-squared:                  0.001\n",
       "Method:                  Least Squares   F-statistic:                     1.174\n",
       "Date:                 Sun, 30 Jan 2022   Prob (F-statistic):              0.280\n",
       "Time:                         11:10:40   Log-Likelihood:                 337.02\n",
       "No. Observations:                  244   AIC:                            -670.0\n",
       "Df Residuals:                      242   BIC:                            -663.0\n",
       "Df Model:                            1                                         \n",
       "Covariance Type:             nonrobust                                         \n",
       "====================================================================================\n",
       "                       coef    std err          t      P>|t|      [0.025      0.975]\n",
       "------------------------------------------------------------------------------------\n",
       "Intercept            0.1577      0.005     32.356      0.000       0.148       0.167\n",
       "C(sex)[T.Female]     0.0088      0.008      1.083      0.280      -0.007       0.025\n",
       "==============================================================================\n",
       "Omnibus:                      224.065   Durbin-Watson:                   2.052\n",
       "Prob(Omnibus):                  0.000   Jarque-Bera (JB):             8063.450\n",
       "Skew:                           3.389   Prob(JB):                         0.00\n",
       "Kurtosis:                      30.335   Cond. No.                         2.42\n",
       "==============================================================================\n",
       "\n",
       "Notes:\n",
       "[1] Standard Errors assume that the covariance matrix of the errors is correctly specified.\n",
       "\"\"\""
      ]
     },
     "execution_count": 4,
     "metadata": {},
     "output_type": "execute_result"
    }
   ],
   "source": [
    "model: smf.ols = smf.ols(\"I(tip / total_bill) ~ C(sex)\", data).fit()\n",
    "model.summary()"
   ]
  },
  {
   "cell_type": "markdown",
   "id": "continental-exhaust",
   "metadata": {},
   "source": [
    "r-squared: how much of the variation in y corresponds to the variation in x (1 is perfectly co-variant)"
   ]
  },
  {
   "cell_type": "markdown",
   "id": "another-liquid",
   "metadata": {},
   "source": [
    "## What is the average tip percentage in the male population and the female population?"
   ]
  },
  {
   "cell_type": "code",
   "execution_count": 5,
   "id": "constitutional-empty",
   "metadata": {},
   "outputs": [
    {
     "data": {
      "text/html": [
       "<div>\n",
       "<style scoped>\n",
       "    .dataframe tbody tr th:only-of-type {\n",
       "        vertical-align: middle;\n",
       "    }\n",
       "\n",
       "    .dataframe tbody tr th {\n",
       "        vertical-align: top;\n",
       "    }\n",
       "\n",
       "    .dataframe thead th {\n",
       "        text-align: right;\n",
       "    }\n",
       "</style>\n",
       "<table border=\"1\" class=\"dataframe\">\n",
       "  <thead>\n",
       "    <tr style=\"text-align: right;\">\n",
       "      <th></th>\n",
       "      <th>total_bill</th>\n",
       "      <th>tip</th>\n",
       "      <th>sex</th>\n",
       "      <th>smoker</th>\n",
       "      <th>day</th>\n",
       "      <th>time</th>\n",
       "      <th>size</th>\n",
       "      <th>pct_of_total</th>\n",
       "    </tr>\n",
       "  </thead>\n",
       "  <tbody>\n",
       "    <tr>\n",
       "      <th>0</th>\n",
       "      <td>16.99</td>\n",
       "      <td>1.01</td>\n",
       "      <td>Female</td>\n",
       "      <td>No</td>\n",
       "      <td>Sun</td>\n",
       "      <td>Dinner</td>\n",
       "      <td>2</td>\n",
       "      <td>0.059447</td>\n",
       "    </tr>\n",
       "    <tr>\n",
       "      <th>1</th>\n",
       "      <td>10.34</td>\n",
       "      <td>1.66</td>\n",
       "      <td>Male</td>\n",
       "      <td>No</td>\n",
       "      <td>Sun</td>\n",
       "      <td>Dinner</td>\n",
       "      <td>3</td>\n",
       "      <td>0.160542</td>\n",
       "    </tr>\n",
       "    <tr>\n",
       "      <th>2</th>\n",
       "      <td>21.01</td>\n",
       "      <td>3.50</td>\n",
       "      <td>Male</td>\n",
       "      <td>No</td>\n",
       "      <td>Sun</td>\n",
       "      <td>Dinner</td>\n",
       "      <td>3</td>\n",
       "      <td>0.166587</td>\n",
       "    </tr>\n",
       "    <tr>\n",
       "      <th>3</th>\n",
       "      <td>23.68</td>\n",
       "      <td>3.31</td>\n",
       "      <td>Male</td>\n",
       "      <td>No</td>\n",
       "      <td>Sun</td>\n",
       "      <td>Dinner</td>\n",
       "      <td>2</td>\n",
       "      <td>0.139780</td>\n",
       "    </tr>\n",
       "    <tr>\n",
       "      <th>4</th>\n",
       "      <td>24.59</td>\n",
       "      <td>3.61</td>\n",
       "      <td>Female</td>\n",
       "      <td>No</td>\n",
       "      <td>Sun</td>\n",
       "      <td>Dinner</td>\n",
       "      <td>4</td>\n",
       "      <td>0.146808</td>\n",
       "    </tr>\n",
       "  </tbody>\n",
       "</table>\n",
       "</div>"
      ],
      "text/plain": [
       "   total_bill   tip     sex smoker  day    time  size  pct_of_total\n",
       "0       16.99  1.01  Female     No  Sun  Dinner     2      0.059447\n",
       "1       10.34  1.66    Male     No  Sun  Dinner     3      0.160542\n",
       "2       21.01  3.50    Male     No  Sun  Dinner     3      0.166587\n",
       "3       23.68  3.31    Male     No  Sun  Dinner     2      0.139780\n",
       "4       24.59  3.61  Female     No  Sun  Dinner     4      0.146808"
      ]
     },
     "execution_count": 5,
     "metadata": {},
     "output_type": "execute_result"
    }
   ],
   "source": [
    "data[\"pct_of_total\"] = data[\"tip\"] / data[\"total_bill\"]\n",
    "data.head()"
   ]
  },
  {
   "cell_type": "markdown",
   "id": "fifth-behalf",
   "metadata": {},
   "source": [
    "compute conditional means (expected value of % of total conditional on sex = male)"
   ]
  },
  {
   "cell_type": "code",
   "execution_count": 6,
   "id": "angry-corner",
   "metadata": {},
   "outputs": [
    {
     "data": {
      "text/plain": [
       "(244, 157)"
      ]
     },
     "execution_count": 6,
     "metadata": {},
     "output_type": "execute_result"
    }
   ],
   "source": [
    "len(data), len(data[data[\"sex\"] == \"Male\"])"
   ]
  },
  {
   "cell_type": "code",
   "execution_count": 7,
   "id": "alternate-youth",
   "metadata": {},
   "outputs": [
    {
     "data": {
      "text/plain": [
       "0      False\n",
       "1       True\n",
       "2       True\n",
       "3       True\n",
       "4      False\n",
       "       ...  \n",
       "239     True\n",
       "240    False\n",
       "241     True\n",
       "242     True\n",
       "243    False\n",
       "Name: sex, Length: 244, dtype: bool"
      ]
     },
     "execution_count": 7,
     "metadata": {},
     "output_type": "execute_result"
    }
   ],
   "source": [
    "data[\"sex\"] == \"Male\""
   ]
  },
  {
   "cell_type": "code",
   "execution_count": 8,
   "id": "varied-regular",
   "metadata": {},
   "outputs": [
    {
     "data": {
      "text/plain": [
       "(0.15765054700429748, 0.16649073632892475)"
      ]
     },
     "execution_count": 8,
     "metadata": {},
     "output_type": "execute_result"
    }
   ],
   "source": [
    "avg_tip_pct_m: float = data[data[\"sex\"] == \"Male\"][\"pct_of_total\"].mean()\n",
    "avg_tip_pct_f: float = data[data[\"sex\"] == \"Female\"][\"pct_of_total\"].mean()\n",
    "avg_tip_pct_m, avg_tip_pct_f"
   ]
  },
  {
   "cell_type": "code",
   "execution_count": 9,
   "id": "vital-latest",
   "metadata": {},
   "outputs": [
    {
     "data": {
      "text/plain": [
       "0.1665"
      ]
     },
     "execution_count": 9,
     "metadata": {},
     "output_type": "execute_result"
    }
   ],
   "source": [
    ".1577 + .0088"
   ]
  },
  {
   "cell_type": "markdown",
   "id": "hawaiian-fusion",
   "metadata": {},
   "source": [
    "I want to plot the observed values against the estimated values for my regression.\n",
    "x values are index of datafram\n",
    "y1 = est_values\n",
    "y2 = pct_of_total"
   ]
  },
  {
   "cell_type": "code",
   "execution_count": 10,
   "id": "ordered-navigator",
   "metadata": {},
   "outputs": [
    {
     "data": {
      "text/html": [
       "<div>\n",
       "<style scoped>\n",
       "    .dataframe tbody tr th:only-of-type {\n",
       "        vertical-align: middle;\n",
       "    }\n",
       "\n",
       "    .dataframe tbody tr th {\n",
       "        vertical-align: top;\n",
       "    }\n",
       "\n",
       "    .dataframe thead th {\n",
       "        text-align: right;\n",
       "    }\n",
       "</style>\n",
       "<table border=\"1\" class=\"dataframe\">\n",
       "  <thead>\n",
       "    <tr style=\"text-align: right;\">\n",
       "      <th></th>\n",
       "      <th>total_bill</th>\n",
       "      <th>tip</th>\n",
       "      <th>sex</th>\n",
       "      <th>smoker</th>\n",
       "      <th>day</th>\n",
       "      <th>time</th>\n",
       "      <th>size</th>\n",
       "      <th>pct_of_total</th>\n",
       "      <th>est_values</th>\n",
       "    </tr>\n",
       "  </thead>\n",
       "  <tbody>\n",
       "    <tr>\n",
       "      <th>0</th>\n",
       "      <td>16.99</td>\n",
       "      <td>1.01</td>\n",
       "      <td>Female</td>\n",
       "      <td>No</td>\n",
       "      <td>Sun</td>\n",
       "      <td>Dinner</td>\n",
       "      <td>2</td>\n",
       "      <td>0.059447</td>\n",
       "      <td>0.16649</td>\n",
       "    </tr>\n",
       "    <tr>\n",
       "      <th>1</th>\n",
       "      <td>10.34</td>\n",
       "      <td>1.66</td>\n",
       "      <td>Male</td>\n",
       "      <td>No</td>\n",
       "      <td>Sun</td>\n",
       "      <td>Dinner</td>\n",
       "      <td>3</td>\n",
       "      <td>0.160542</td>\n",
       "      <td>0.15765</td>\n",
       "    </tr>\n",
       "    <tr>\n",
       "      <th>2</th>\n",
       "      <td>21.01</td>\n",
       "      <td>3.50</td>\n",
       "      <td>Male</td>\n",
       "      <td>No</td>\n",
       "      <td>Sun</td>\n",
       "      <td>Dinner</td>\n",
       "      <td>3</td>\n",
       "      <td>0.166587</td>\n",
       "      <td>0.15765</td>\n",
       "    </tr>\n",
       "    <tr>\n",
       "      <th>3</th>\n",
       "      <td>23.68</td>\n",
       "      <td>3.31</td>\n",
       "      <td>Male</td>\n",
       "      <td>No</td>\n",
       "      <td>Sun</td>\n",
       "      <td>Dinner</td>\n",
       "      <td>2</td>\n",
       "      <td>0.139780</td>\n",
       "      <td>0.15765</td>\n",
       "    </tr>\n",
       "    <tr>\n",
       "      <th>4</th>\n",
       "      <td>24.59</td>\n",
       "      <td>3.61</td>\n",
       "      <td>Female</td>\n",
       "      <td>No</td>\n",
       "      <td>Sun</td>\n",
       "      <td>Dinner</td>\n",
       "      <td>4</td>\n",
       "      <td>0.146808</td>\n",
       "      <td>0.16649</td>\n",
       "    </tr>\n",
       "  </tbody>\n",
       "</table>\n",
       "</div>"
      ],
      "text/plain": [
       "   total_bill   tip     sex smoker  day    time  size  pct_of_total  \\\n",
       "0       16.99  1.01  Female     No  Sun  Dinner     2      0.059447   \n",
       "1       10.34  1.66    Male     No  Sun  Dinner     3      0.160542   \n",
       "2       21.01  3.50    Male     No  Sun  Dinner     3      0.166587   \n",
       "3       23.68  3.31    Male     No  Sun  Dinner     2      0.139780   \n",
       "4       24.59  3.61  Female     No  Sun  Dinner     4      0.146808   \n",
       "\n",
       "   est_values  \n",
       "0     0.16649  \n",
       "1     0.15765  \n",
       "2     0.15765  \n",
       "3     0.15765  \n",
       "4     0.16649  "
      ]
     },
     "execution_count": 10,
     "metadata": {},
     "output_type": "execute_result"
    }
   ],
   "source": [
    "data[\"est_values\"] = np.where(data[\"sex\"]== \"Male\", 0.15765, 0.16649)\n",
    "data.head()"
   ]
  },
  {
   "cell_type": "code",
   "execution_count": 11,
   "id": "cheap-bookmark",
   "metadata": {},
   "outputs": [
    {
     "data": {
      "text/plain": [
       "<AxesSubplot:>"
      ]
     },
     "execution_count": 11,
     "metadata": {},
     "output_type": "execute_result"
    },
    {
     "data": {
      "image/png": "[encoded data removed]",
      "text/plain": [
       "<Figure size 432x288 with 1 Axes>"
      ]
     },
     "metadata": {
      "needs_background": "light"
     },
     "output_type": "display_data"
    }
   ],
   "source": [
    "data[[\"pct_of_total\",\"est_values\"]].plot()"
   ]
  },
  {
   "cell_type": "code",
   "execution_count": 14,
   "id": "welcome-maine",
   "metadata": {},
   "outputs": [
    {
     "data": {
      "text/plain": [
       "<AxesSubplot:>"
      ]
     },
     "execution_count": 14,
     "metadata": {},
     "output_type": "execute_result"
    },
    {
     "data": {
      "image/png": "[encoded data removed]",
      "text/plain": [
       "<Figure size 432x288 with 1 Axes>"
      ]
     },
     "metadata": {
      "needs_background": "light"
     },
     "output_type": "display_data"
    }
   ],
   "source": [
    "model2: smf.ols = smf.ols(\"I(tip / total_bill) ~ I(total_bill) + C(sex)\", data).fit()\n",
    "model2.summary()\n",
    "model2.predict(data).plot()"
   ]
  },
  {
   "cell_type": "code",
   "execution_count": 1,
   "id": "religious-table",
   "metadata": {},
   "outputs": [
    {
     "ename": "NameError",
     "evalue": "name 'model2' is not defined",
     "output_type": "error",
     "traceback": [
      "\u001b[0;31m---------------------------------------------------------------------------\u001b[0m",
      "\u001b[0;31mNameError\u001b[0m                                 Traceback (most recent call last)",
      "\u001b[0;32m<ipython-input-1-78ee319ad160>\u001b[0m in \u001b[0;36m<module>\u001b[0;34m\u001b[0m\n\u001b[0;32m----> 1\u001b[0;31m \u001b[0mmodel2\u001b[0m\u001b[0;34m.\u001b[0m\u001b[0mpredict\u001b[0m\u001b[0;34m(\u001b[0m\u001b[0;34m)\u001b[0m\u001b[0;34m\u001b[0m\u001b[0;34m\u001b[0m\u001b[0m\n\u001b[0m",
      "\u001b[0;31mNameError\u001b[0m: name 'model2' is not defined"
     ]
    }
   ],
   "source": []
  },
  {
   "cell_type": "code",
   "execution_count": null,
   "id": "romance-offering",
   "metadata": {},
   "outputs": [],
   "source": []
  }
 ],
 "metadata": {
  "kernelspec": {
   "display_name": "Python 3 (ipykernel)",
   "language": "python",
   "name": "python3"
  },
  "language_info": {
   "codemirror_mode": {
    "name": "ipython",
    "version": 3
   },
   "file_extension": ".py",
   "mimetype": "text/x-python",
   "name": "python",
   "nbconvert_exporter": "python",
   "pygments_lexer": "ipython3",
   "version": "3.10.2"
  }
 },
 "nbformat": 4,
 "nbformat_minor": 5
}
