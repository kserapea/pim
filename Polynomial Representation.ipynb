{
 "cells": [
  {
   "cell_type": "markdown",
   "id": "178900ac-b13e-4f83-a3f3-7e59c2fd382c",
   "metadata": {},
   "source": [
    "# Interpolating Polynomial Code\n",
    "Code for a python program that represents an interpolating polynomial"
   ]
  },
  {
   "cell_type": "code",
   "execution_count": 86,
   "id": "a4c271e4-6d45-44da-8048-2eac17c8333e",
   "metadata": {},
   "outputs": [],
   "source": [
    "from typing import List\n",
    "import re\n",
    "import itertools as it\n",
    "import numpy as np"
   ]
  },
  {
   "cell_type": "code",
   "execution_count": 109,
   "id": "580c43c3-f17c-4de0-915c-27f002c30b8a",
   "metadata": {},
   "outputs": [
    {
     "name": "stdout",
     "output_type": "stream",
     "text": [
      "1 + 2x + 3x^2\n",
      "-8 + 17x + 5x^3\n",
      "[-7, 19, 3, 5]\n"
     ]
    }
   ],
   "source": [
    "class Polynomial:\n",
    "    def __init__(self, coefficients: List[int]) -> None:\n",
    "        self.coefficients: List[int] = coefficients\n",
    "    \n",
    "    def __str__(self) -> str:\n",
    "        \"\"\"returns a string representation of the polynomial\"\"\"\n",
    "        coeff_list: List[str] = [display(c, i) for i, c in enumerate(self.coefficients)]\n",
    "        filter_coeff_list = list(filter(lambda x: x != \"\", coeff_list))\n",
    "        return re.sub(r\"\\+ -\", \"- \", \" + \".join(filter_coeff_list))\n",
    "        #return re.sub(r\"\\+ -\", \"- \", \" + \".join([display(c, i) for i, c in enumerate(self.coefficients)])) -->had to adjust to put the above fliter in to remove 0's   \n",
    "            \n",
    "    def __add__(self, other: Polynomial) -> Polynomial:\n",
    "        \"\"\"returns the sum of two polynomials (like degrees are added together)\"\"\"\n",
    "        return [sum(n) for n in it.zip_longest(self.coefficients, other.coefficients, fillvalue = 0)]\n",
    "        #return np.add(self.coefficients, other.coefficients) --> this needed lists of the same length\n",
    "        \n",
    "f: Polynomial = Polynomial([1, 2, 3])\n",
    "g: Polynomial = Polynomial([-8, 17, 0, 5])\n",
    "h: Polynomial = f + g\n",
    "print(f)\n",
    "print(g)\n",
    "print(h)"
   ]
  },
  {
   "cell_type": "code",
   "execution_count": 103,
   "id": "6937c7fc-213d-4edd-a46d-e74d89460f88",
   "metadata": {},
   "outputs": [],
   "source": [
    "def display(coefficient: int, index: int) -> str:\n",
    "    if index == 0: \n",
    "        x: str = \"\"\n",
    "    elif index == 1:\n",
    "        x: str = \"x\"\n",
    "    else:\n",
    "        x: str = \"x^\"+str(index)\n",
    "    if coefficient == 0:\n",
    "        output: str = \"\"\n",
    "    else:\n",
    "        output: str = str(coefficient) + x\n",
    "        \n",
    "    return output"
   ]
  },
  {
   "cell_type": "code",
   "execution_count": 110,
   "id": "b8bbf1ec-4518-4c1f-aeb8-73c0a7b6bc05",
   "metadata": {},
   "outputs": [
    {
     "name": "stdout",
     "output_type": "stream",
     "text": [
      "[1, 2, 3]\n"
     ]
    }
   ],
   "source": [
    "print(f.coefficients)"
   ]
  },
  {
   "cell_type": "code",
   "execution_count": 4,
   "id": "c4fc23d1-c59c-432d-a8b1-3f194cb79c35",
   "metadata": {},
   "outputs": [
    {
     "data": {
      "text/plain": [
       "'1 + 2x + 3x^2'"
      ]
     },
     "execution_count": 4,
     "metadata": {},
     "output_type": "execute_result"
    }
   ],
   "source": [
    "\"1 + 2x + 3x^2\""
   ]
  },
  {
   "cell_type": "code",
   "execution_count": 19,
   "id": "1131b48f-ec19-4d9c-8c59-d1d369db3163",
   "metadata": {},
   "outputs": [],
   "source": [
    "first: str = \"1\"\n",
    "second: str = \"2\"\n",
    "third: str = \"-3\"\n",
    "    \n",
    "combine: str = first + \" + \" + second + \"x\" + \" + \" + third + \"x^2\""
   ]
  },
  {
   "cell_type": "code",
   "execution_count": 20,
   "id": "d8b72a3f-ad85-4daa-a4c6-9ac6f43846f1",
   "metadata": {},
   "outputs": [
    {
     "name": "stdout",
     "output_type": "stream",
     "text": [
      "1 + 2x + -3x^2\n"
     ]
    }
   ],
   "source": [
    "print(combine)"
   ]
  },
  {
   "cell_type": "code",
   "execution_count": 104,
   "id": "56e56694-4be3-4d73-bcd1-bc13e7d1a8bd",
   "metadata": {},
   "outputs": [
    {
     "name": "stdout",
     "output_type": "stream",
     "text": [
      "['1', '-2x', '', '3x^3']\n"
     ]
    }
   ],
   "source": [
    "coeff_list: list[str] = [display(c, i) for i, c in enumerate([1, -2, 0, 3])]\n",
    "print(coeff_list)"
   ]
  },
  {
   "cell_type": "code",
   "execution_count": 105,
   "id": "1ad7a66c-a78c-438c-92d6-220152e646ff",
   "metadata": {},
   "outputs": [
    {
     "data": {
      "text/plain": [
       "'1 + 2x +  + 3x^3'"
      ]
     },
     "execution_count": 105,
     "metadata": {},
     "output_type": "execute_result"
    }
   ],
   "source": [
    "\" + \".join([display(c, i) for i, c in enumerate([1, 2, 0, 3])])"
   ]
  },
  {
   "cell_type": "code",
   "execution_count": 47,
   "id": "9290a102-67a9-4ae9-9828-989bac5df9b4",
   "metadata": {},
   "outputs": [
    {
     "name": "stdout",
     "output_type": "stream",
     "text": [
      " + 1 - -2x + 3x^2\n"
     ]
    }
   ],
   "source": [
    "p_display: str = \"\".join([(\" - \" if \"-\" in x else \" + \")+x for x in coeff_list])\n",
    "print(p_display)"
   ]
  },
  {
   "cell_type": "code",
   "execution_count": 55,
   "id": "000fec63-632b-4a05-8cbf-cc7b2e3c1597",
   "metadata": {},
   "outputs": [
    {
     "name": "stdout",
     "output_type": "stream",
     "text": [
      "1 + -2x + 3x^2\n"
     ]
    }
   ],
   "source": [
    "p2_display: str = \" + \".join([display(c, i) for i, c in enumerate([1, -2, 3])])\n",
    "print(p2_display)"
   ]
  },
  {
   "cell_type": "code",
   "execution_count": 65,
   "id": "c4edf9a0-f2d1-4075-bf61-13794236733e",
   "metadata": {},
   "outputs": [
    {
     "data": {
      "text/plain": [
       "'1 - 2x + 3x^2'"
      ]
     },
     "execution_count": 65,
     "metadata": {},
     "output_type": "execute_result"
    }
   ],
   "source": [
    "re.sub(r\"\\+ -\", \"- \", p2_display)"
   ]
  },
  {
   "cell_type": "code",
   "execution_count": null,
   "id": "25242eb4-d747-4180-8598-0f5390d94e06",
   "metadata": {},
   "outputs": [],
   "source": []
  }
 ],
 "metadata": {
  "kernelspec": {
   "display_name": "Python 3",
   "language": "python",
   "name": "python3"
  },
  "language_info": {
   "codemirror_mode": {
    "name": "ipython",
    "version": 3
   },
   "file_extension": ".py",
   "mimetype": "text/x-python",
   "name": "python",
   "nbconvert_exporter": "python",
   "pygments_lexer": "ipython3",
   "version": "3.9.4"
  }
 },
 "nbformat": 4,
 "nbformat_minor": 5
}
