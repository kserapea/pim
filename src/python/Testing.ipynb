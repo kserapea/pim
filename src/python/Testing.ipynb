{
 "cells": [
  {
   "cell_type": "code",
   "execution_count": 191,
   "id": "c9cfdb93-603b-4b2b-a988-b69291c57584",
   "metadata": {},
   "outputs": [
    {
     "name": "stdout",
     "output_type": "stream",
     "text": [
      "The autoreload extension is already loaded. To reload it, use:\n",
      "  %reload_ext autoreload\n"
     ]
    }
   ],
   "source": [
    "from typing import List, Tuple\n",
    "import re\n",
    "import itertools as it\n",
    "import numpy as np\n",
    "from pim.polynomial_representation import Polynomial\n",
    "from pim.interpolate import interpolate, single_term\n",
    "\n",
    "%load_ext autoreload\n",
    "%aimport pim.polynomial_representation\n",
    "%autoreload 1"
   ]
  },
  {
   "cell_type": "code",
   "execution_count": 152,
   "id": "89692aff-87bf-4771-8794-c9f9275daa73",
   "metadata": {},
   "outputs": [],
   "source": [
    "f: Polynomial = Polynomial([1, 2, 3])\n",
    "g: Polynomial = Polynomial([-8, 17, 0, 5])"
   ]
  },
  {
   "cell_type": "code",
   "execution_count": 134,
   "id": "cd408f9f-a313-47ae-bffd-500168cd5c89",
   "metadata": {},
   "outputs": [
    {
     "data": {
      "text/plain": [
       "['__add__',\n",
       " '__class__',\n",
       " '__class_getitem__',\n",
       " '__contains__',\n",
       " '__delattr__',\n",
       " '__delitem__',\n",
       " '__dir__',\n",
       " '__doc__',\n",
       " '__eq__',\n",
       " '__format__',\n",
       " '__ge__',\n",
       " '__getattribute__',\n",
       " '__getitem__',\n",
       " '__gt__',\n",
       " '__hash__',\n",
       " '__iadd__',\n",
       " '__imul__',\n",
       " '__init__',\n",
       " '__init_subclass__',\n",
       " '__iter__',\n",
       " '__le__',\n",
       " '__len__',\n",
       " '__lt__',\n",
       " '__mul__',\n",
       " '__ne__',\n",
       " '__new__',\n",
       " '__reduce__',\n",
       " '__reduce_ex__',\n",
       " '__repr__',\n",
       " '__reversed__',\n",
       " '__rmul__',\n",
       " '__setattr__',\n",
       " '__setitem__',\n",
       " '__sizeof__',\n",
       " '__str__',\n",
       " '__subclasshook__',\n",
       " 'append',\n",
       " 'clear',\n",
       " 'copy',\n",
       " 'count',\n",
       " 'extend',\n",
       " 'index',\n",
       " 'insert',\n",
       " 'pop',\n",
       " 'remove',\n",
       " 'reverse',\n",
       " 'sort']"
      ]
     },
     "execution_count": 134,
     "metadata": {},
     "output_type": "execute_result"
    }
   ],
   "source": [
    "dir(f.coefficients)"
   ]
  },
  {
   "cell_type": "code",
   "execution_count": 137,
   "id": "d177b371-0712-4a6f-8efa-7527afe76592",
   "metadata": {},
   "outputs": [
    {
     "data": {
      "text/plain": [
       "[-7, 19, 3, 5]"
      ]
     },
     "execution_count": 137,
     "metadata": {},
     "output_type": "execute_result"
    }
   ],
   "source": [
    "[sum(n) for n in it.zip_longest(f.coefficients, g.coefficients, fillvalue = 0)]"
   ]
  },
  {
   "cell_type": "code",
   "execution_count": 192,
   "id": "d98d2181-23f7-4c1f-b348-ebe191062c0a",
   "metadata": {},
   "outputs": [
    {
     "name": "stdout",
     "output_type": "stream",
     "text": [
      "1 + 2x + 3x^2\n",
      "-8 + 17x + 5x^3\n",
      "-7 + 19x + 3x^2 + 5x^3\n",
      "-8 + 1x + 10x^2 + 56x^3 + 10x^4 + 15x^5\n"
     ]
    },
    {
     "data": {
      "text/plain": [
       "57"
      ]
     },
     "execution_count": 192,
     "metadata": {},
     "output_type": "execute_result"
    }
   ],
   "source": [
    "f: Polynomial = Polynomial([1, 2, 3])\n",
    "g: Polynomial = Polynomial([-8, 17, 0, 5])\n",
    "h: Polynomial = f + g\n",
    "j: Polynomial = f * g\n",
    "print(f)\n",
    "print(g)\n",
    "print(h)\n",
    "print(j)\n",
    "    \n",
    "Polynomial.evaluate(f, 4)"
   ]
  },
  {
   "cell_type": "code",
   "execution_count": 195,
   "id": "abdbf596-0cc2-4001-8295-66abdd154c53",
   "metadata": {},
   "outputs": [
    {
     "name": "stdout",
     "output_type": "stream",
     "text": [
      "1.0\n"
     ]
    }
   ],
   "source": [
    "points1 = [(1, 1)]\n",
    "points2 = [(1, 1), (2, 0)]\n",
    "points3 = [(1, 1), (2, 4), (7, 9)]\n",
    "print(interpolate(points1))\n",
    "interpolate(points2)"
   ]
  },
  {
   "cell_type": "code",
   "execution_count": null,
   "id": "d9b34acc-94cb-4d6f-8e92-11a6f0bef830",
   "metadata": {},
   "outputs": [],
   "source": []
  },
  {
   "cell_type": "code",
   "execution_count": null,
   "id": "20020bce-1b1b-4002-b332-df893d245faa",
   "metadata": {},
   "outputs": [],
   "source": []
  },
  {
   "cell_type": "code",
   "execution_count": null,
   "id": "827c3ddc-fae0-4c17-aa3f-f5c87a8dda29",
   "metadata": {},
   "outputs": [],
   "source": []
  },
  {
   "cell_type": "code",
   "execution_count": null,
   "id": "2e1a3659-0c3c-4b74-8b5b-b9900684ef6b",
   "metadata": {},
   "outputs": [],
   "source": []
  },
  {
   "cell_type": "code",
   "execution_count": null,
   "id": "dc284b67-8871-4c80-a976-ea073d37f8f6",
   "metadata": {},
   "outputs": [],
   "source": []
  },
  {
   "cell_type": "code",
   "execution_count": null,
   "id": "1033650c-67ce-4e81-ba3e-2e1f3644f0e2",
   "metadata": {},
   "outputs": [],
   "source": []
  }
 ],
 "metadata": {
  "kernelspec": {
   "display_name": "Python 3",
   "language": "python",
   "name": "python3"
  },
  "language_info": {
   "codemirror_mode": {
    "name": "ipython",
    "version": 3
   },
   "file_extension": ".py",
   "mimetype": "text/x-python",
   "name": "python",
   "nbconvert_exporter": "python",
   "pygments_lexer": "ipython3",
   "version": "3.9.4"
  }
 },
 "nbformat": 4,
 "nbformat_minor": 5
}
