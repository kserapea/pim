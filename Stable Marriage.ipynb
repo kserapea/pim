{
 "cells": [
  {
   "cell_type": "markdown",
   "id": "a5b06f0d-2fab-4afc-ad49-4cdfea7b0ffd",
   "metadata": {},
   "source": [
    "# Stable Marriage Algorithm\n",
    "This notebook is for us to work through examples and code in implementing the stable marriage algorithm"
   ]
  },
  {
   "cell_type": "markdown",
   "id": "ded479c7-da79-45ec-bfb8-d984eb9b5d7e",
   "metadata": {},
   "source": [
    "You have $n$ suitors and $m$ suiteds. \n",
    "The output is a bijection of $N \\rightarrow M$.\n",
    "\n",
    "Each suitor has a ranking of suiteds and each suited has a ranking of suitors.\n",
    "The stable marriage is achieved when no suitor or suited mutually prefers each other over their assigned partners."
   ]
  },
  {
   "cell_type": "code",
   "execution_count": 3,
   "id": "eee7e16a-c7a8-440a-b263-645816ba8a12",
   "metadata": {},
   "outputs": [],
   "source": [
    "import numpy as np\n",
    "from typing import List, Dict, Callable"
   ]
  },
  {
   "cell_type": "code",
   "execution_count": 8,
   "id": "d3bb3374-0f28-4e7f-9d98-58b13967a9c9",
   "metadata": {},
   "outputs": [],
   "source": [
    "class Suitor:\n",
    "    def __init__(self, id, preference_list):\n",
    "        self.preference_list = preference_list #list of suited in order of preference\n",
    "        self.index_to_propose_to = 0\n",
    "        self.id = id\n",
    "    \n",
    "    def preference(self):\n",
    "        # returns the next preference of suited\n",
    "        return self.preference_list[self.index_to_propose_to]\n",
    "    \n",
    "    def post_rejection(self):\n",
    "        # moves the index to the next preference if rejected\n",
    "        self.index_to_propose_to += 1"
   ]
  },
  {
   "cell_type": "code",
   "execution_count": 10,
   "id": "991f70b2-74b7-4d49-a6a5-9a9ee8a6e50b",
   "metadata": {},
   "outputs": [],
   "source": [
    "class Suited:\n",
    "    def __init__(self, id, preference_list):\n",
    "        self.preference_list = preference_list #list of suitors in order of preference\n",
    "        self.held = None\n",
    "        self.current_suitors = set()\n",
    "        self.id = id\n",
    "        \n",
    "    def reject(self):\n",
    "        # Returns the subset of suitors in a rejected set and holds the best \n",
    "        if len(self.current_suitors) == 0:\n",
    "            return set()\n",
    "        \n",
    "        self.held = min(\n",
    "            self.current_suitors,\n",
    "            key=lambda suitor: self.preference_list.index(suitor.id))\n",
    "        rejected = self.current_suitors - set([self.held])\n",
    "        self.current_suitors = set([self.held])\n",
    "        \n",
    "        return rejected\n",
    "    \n",
    "    def add_suitor(self, suitor):\n",
    "        self.current_suitors.add(suitor)"
   ]
  },
  {
   "cell_type": "code",
   "execution_count": 11,
   "id": "f3a22ab0-269b-4f85-860c-d3c44972a6cc",
   "metadata": {},
   "outputs": [],
   "source": [
    "def stable_marriage(suitors, suiteds):\n",
    "    unassigned = set(suitors)\n",
    "    \n",
    "    while len(unassigned) > 0:\n",
    "        for suitor in unassigned:\n",
    "            next_to_propose_to = suiteds[suitor.preference()]\n",
    "            next_to_propose_to.add_suitor(suitor)\n",
    "        unassigned = set()\n",
    "        \n",
    "        for suited in suiteds:\n",
    "            unassigned |= suited.reject()\n",
    "        \n",
    "        for suitor in unassigned:\n",
    "            suitor.post_rejection()\n",
    "            \n",
    "    return dict([(suited.held, suited) for suited in suiteds])"
   ]
  },
  {
   "cell_type": "code",
   "execution_count": 14,
   "id": "e3b4b1fc-5674-449e-bab2-964efabdf75d",
   "metadata": {},
   "outputs": [],
   "source": [
    "suitors = [\n",
    "    Suitor(0, [3, 5, 4, 2, 1, 0]),\n",
    "    Suitor(1, [2, 3, 1, 0, 4, 5]),\n",
    "    Suitor(2, [5, 2, 1, 0, 3, 4]),\n",
    "    Suitor(3, [0, 1, 2, 3, 4, 5]),\n",
    "    Suitor(4, [4, 5, 1, 2, 0, 3]),\n",
    "    Suitor(5, [0, 1, 2, 3, 4, 5])\n",
    "]"
   ]
  },
  {
   "cell_type": "code",
   "execution_count": 15,
   "id": "36fdcc60-7599-4ff5-8cae-381d4a6472f9",
   "metadata": {},
   "outputs": [],
   "source": [
    "suiteds = [\n",
    "    Suited(0, [3, 5, 4, 2, 1, 0]),\n",
    "    Suited(1, [2, 3, 1, 0, 4, 5]),\n",
    "    Suited(2, [5, 2, 1, 0, 3, 4]),\n",
    "    Suited(3, [0, 1, 2, 3, 4, 5]),\n",
    "    Suited(4, [4, 5, 1, 2, 0, 3]),\n",
    "    Suited(5, [0, 1, 2, 3, 4, 5])\n",
    "]"
   ]
  },
  {
   "cell_type": "code",
   "execution_count": 16,
   "id": "a6f99c34-91cb-449f-ae89-3a41b3afdbfe",
   "metadata": {},
   "outputs": [
    {
     "data": {
      "text/plain": [
       "{<__main__.Suitor at 0x7f9c00cbc940>: <__main__.Suited at 0x7f9c208ff940>,\n",
       " <__main__.Suitor at 0x7f9c00cbcbb0>: <__main__.Suited at 0x7f9c208ff3a0>,\n",
       " <__main__.Suitor at 0x7f9c00cbcdf0>: <__main__.Suited at 0x7f9c00ca7bb0>,\n",
       " <__main__.Suitor at 0x7f9c00cbc580>: <__main__.Suited at 0x7f9c00ca71c0>,\n",
       " <__main__.Suitor at 0x7f9c00cbce20>: <__main__.Suited at 0x7f9c00ca7850>,\n",
       " <__main__.Suitor at 0x7f9c00cbcc10>: <__main__.Suited at 0x7f9c00ca7700>}"
      ]
     },
     "execution_count": 16,
     "metadata": {},
     "output_type": "execute_result"
    }
   ],
   "source": [
    "stable_marriage(suitors, suiteds)"
   ]
  },
  {
   "cell_type": "code",
   "execution_count": null,
   "id": "85a8392f-ad56-453a-bc12-88d16a48739a",
   "metadata": {},
   "outputs": [],
   "source": []
  }
 ],
 "metadata": {
  "kernelspec": {
   "display_name": "Python 3",
   "language": "python",
   "name": "python3"
  },
  "language_info": {
   "codemirror_mode": {
    "name": "ipython",
    "version": 3
   },
   "file_extension": ".py",
   "mimetype": "text/x-python",
   "name": "python",
   "nbconvert_exporter": "python",
   "pygments_lexer": "ipython3",
   "version": "3.9.4"
  }
 },
 "nbformat": 4,
 "nbformat_minor": 5
}
