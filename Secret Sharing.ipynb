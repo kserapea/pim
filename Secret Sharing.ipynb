{
 "cells": [
  {
   "cell_type": "markdown",
   "id": "7566eb1e-ff26-4c4b-bbca-d77e9bb46d45",
   "metadata": {},
   "source": [
    "# Secret Sharing Example\n",
    "This notebook is for us to work through examples and code in implementing the secret sharing algorithm for an interpolating polynomial."
   ]
  },
  {
   "cell_type": "code",
   "execution_count": 1,
   "id": "5022f3f2-3fa6-4863-ada9-ee176ea7910e",
   "metadata": {},
   "outputs": [],
   "source": [
    "import numpy as np\n",
    "from typing import List, Dict, Callable"
   ]
  },
  {
   "cell_type": "code",
   "execution_count": null,
   "id": "d00f46aa-5f30-42f5-841c-788e7532ba03",
   "metadata": {},
   "outputs": [],
   "source": []
  }
 ],
 "metadata": {
  "kernelspec": {
   "display_name": "Python 3",
   "language": "python",
   "name": "python3"
  },
  "language_info": {
   "codemirror_mode": {
    "name": "ipython",
    "version": 3
   },
   "file_extension": ".py",
   "mimetype": "text/x-python",
   "name": "python",
   "nbconvert_exporter": "python",
   "pygments_lexer": "ipython3",
   "version": "3.9.4"
  }
 },
 "nbformat": 4,
 "nbformat_minor": 5
}
