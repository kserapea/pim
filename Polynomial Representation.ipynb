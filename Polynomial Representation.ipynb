{
 "cells": [
  {
   "cell_type": "markdown",
   "id": "178900ac-b13e-4f83-a3f3-7e59c2fd382c",
   "metadata": {},
   "source": [
    "# Interpolating Polynomial Representation\n",
    "Code for a python program that represents an interpolating polynomial"
   ]
  },
  {
   "cell_type": "code",
   "execution_count": 86,
   "id": "a4c271e4-6d45-44da-8048-2eac17c8333e",
   "metadata": {},
   "outputs": [],
   "source": [
    "from typing import List\n",
    "import re\n",
    "import itertools as it\n",
    "import numpy as np"
   ]
  },
  {
   "cell_type": "code",
   "execution_count": 159,
   "id": "580c43c3-f17c-4de0-915c-27f002c30b8a",
   "metadata": {},
   "outputs": [],
   "source": [
    "class Polynomial:\n",
    "    def __init__(self, coefficients: List[int]) -> None:\n",
    "        self.coefficients: List[int] = coefficients\n",
    "    \n",
    "    def __str__(self) -> str:\n",
    "        \"\"\"returns a string representation of the polynomial\"\"\"\n",
    "        coeff_list: List[str] = [display(c, i) for i, c in enumerate(self.coefficients)]\n",
    "        filter_coeff_list = list(filter(lambda x: x != \"\", coeff_list))\n",
    "        return re.sub(r\"\\+ -\", \"- \", \" + \".join(filter_coeff_list))\n",
    "    \n",
    "    def __add__(self, other: Polynomial) -> Polynomial:\n",
    "        \"\"\"returns the sum of two polynomials (like degrees are added together)\"\"\"\n",
    "        return [sum(n) for n in it.zip_longest(self, other, fillvalue = 0)]\n",
    "    \n",
    "    def __mul__(self, other: Polynomial) -> Polynomial:\n",
    "        \"\"\"returns the product of two polynomials\"\"\"\n",
    "        len_self: int = len(self.coefficients)\n",
    "        len_other: int = len(other.coefficients)\n",
    "        blank_coeff_list: list(int) = [0] * (len_self + len_other - 1) \n",
    "            \n",
    "        #Multiplies two polynomials term by term\n",
    "        for i in range(len_self):\n",
    "            for j in range(len_other):\n",
    "                blank_coeff_list[i + j] += self.coefficients[i] * other.coefficients[j]\n",
    "        return blank_coeff_list\n",
    "    \n",
    "    def evaluate(self, value: int) -> int:\n",
    "        \"\"\"evaluates a polynomial at a given value\"\"\"\n",
    "        calculate_list: list[str] = [calculate(c, i) for i, c in enumerate(self.coefficients)]\n",
    "        total: int = 0\n",
    "        for i in range(len(self.coefficients)):\n",
    "            total += calculate_list[i][0] * (value ** calculate_list[i][1])\n",
    "        return total\n",
    "    \n",
    "    def __iter__(self):\n",
    "        return iter(self.coefficients)\n",
    "\n",
    "ZERO: Polynomial = Polynomial([]) "
   ]
  },
  {
   "cell_type": "code",
   "execution_count": 154,
   "id": "6937c7fc-213d-4edd-a46d-e74d89460f88",
   "metadata": {},
   "outputs": [],
   "source": [
    "def display(coefficient: int, index: int) -> str:\n",
    "    if index == 0: \n",
    "        x: str = \"\"\n",
    "    elif index == 1:\n",
    "        x: str = \"x\"\n",
    "    else:\n",
    "        x: str = \"x^\"+str(index)\n",
    "    if coefficient == 0:\n",
    "        output: str = \"\"\n",
    "    else:\n",
    "        output: str = str(coefficient) + x\n",
    "        \n",
    "    return output"
   ]
  },
  {
   "cell_type": "code",
   "execution_count": 155,
   "id": "5e68f4da-bf77-49f7-8a00-d71d183dd05d",
   "metadata": {},
   "outputs": [],
   "source": [
    "def calculate(coefficient: int, index: int) -> (int, int):\n",
    "    if coefficient == 0:\n",
    "        x: int = 0\n",
    "        y: int = 0\n",
    "    else:\n",
    "        x: int = coefficient\n",
    "        y: int = index\n",
    "        \n",
    "    return (x, y)"
   ]
  },
  {
   "cell_type": "code",
   "execution_count": 173,
   "id": "45f372ef-3bd2-4903-a385-fa866a1e0173",
   "metadata": {},
   "outputs": [],
   "source": [
    "def interpolate(points):\n",
    "    \"\"\" Returns the unique polynomial of degree at most n passing through the given n+1 points.\"\"\"\n",
    "    if len(points) == 0:\n",
    "        raise ValueError('Must provide at least one point.')\n",
    "    x_values = [p[0] for p in points]\n",
    "    \n",
    "    if len(set(x_values)) < len(x_values):\n",
    "        raise ValueError('Not all x values are distinct.')\n",
    "    terms = [single_term(points, i) for i in range(0, len(points))]\n",
    "    \n",
    "    return sum(terms, ZERO)\n"
   ]
  },
  {
   "cell_type": "code",
   "execution_count": 172,
   "id": "67df3555-9414-44c8-8980-efcfe0adaa64",
   "metadata": {},
   "outputs": [],
   "source": [
    "def single_term(points, i):\n",
    "    \"\"\" Return one term of an interpolated polynomial.\n",
    "        Arguments:\n",
    "            - points: a list of (float, float)\n",
    "            - i: an integer indexing a specific point \"\"\"\n",
    "    the_term = Polynomial([1.])\n",
    "    xi, yi = points[i]\n",
    "    for j, p in enumerate(points):\n",
    "        if j == i:\n",
    "            continue\n",
    "        xj = p[0]\n",
    "        the_term = the_term * Polynomial([-xj / (xi - xj), 1.0 / (xi - xj)])\n",
    "        \n",
    "    return the_term * Polynomial([yi])"
   ]
  },
  {
   "cell_type": "code",
   "execution_count": 174,
   "id": "a1004f32-bbf7-4d9b-bafb-235f9ed94573",
   "metadata": {
    "tags": []
   },
   "outputs": [
    {
     "name": "stdout",
     "output_type": "stream",
     "text": [
      "1 + 2x + 3x^2\n",
      "-8 + 17x + 5x^3\n",
      "[-7, 19, 3, 5]\n",
      "[-8, 1, 10, 56, 10, 15]\n"
     ]
    },
    {
     "data": {
      "text/plain": [
       "57"
      ]
     },
     "execution_count": 174,
     "metadata": {},
     "output_type": "execute_result"
    }
   ],
   "source": [
    "f: Polynomial = Polynomial([1, 2, 3])\n",
    "g: Polynomial = Polynomial([-8, 17, 0, 5])\n",
    "h: Polynomial = f + g\n",
    "j: Polynomial = f * g\n",
    "print(f)\n",
    "print(g)\n",
    "print(h)\n",
    "print(j)\n",
    "\n",
    "Polynomial.evaluate(f, 4)"
   ]
  },
  {
   "cell_type": "code",
   "execution_count": 175,
   "id": "c8ce64f7-859e-4ae0-aa91-090a00318831",
   "metadata": {},
   "outputs": [
    {
     "ename": "TypeError",
     "evalue": "can't multiply sequence by non-int of type 'Polynomial'",
     "output_type": "error",
     "traceback": [
      "\u001b[0;31m---------------------------------------------------------------------------\u001b[0m",
      "\u001b[0;31mTypeError\u001b[0m                                 Traceback (most recent call last)",
      "\u001b[0;32m<ipython-input-175-ef309d540b1b>\u001b[0m in \u001b[0;36m<module>\u001b[0;34m\u001b[0m\n\u001b[1;32m      3\u001b[0m \u001b[0mpoints3\u001b[0m \u001b[0;34m=\u001b[0m \u001b[0;34m[\u001b[0m\u001b[0;34m(\u001b[0m\u001b[0;36m1\u001b[0m\u001b[0;34m,\u001b[0m \u001b[0;36m1\u001b[0m\u001b[0;34m)\u001b[0m\u001b[0;34m,\u001b[0m \u001b[0;34m(\u001b[0m\u001b[0;36m2\u001b[0m\u001b[0;34m,\u001b[0m \u001b[0;36m4\u001b[0m\u001b[0;34m)\u001b[0m\u001b[0;34m,\u001b[0m \u001b[0;34m(\u001b[0m\u001b[0;36m7\u001b[0m\u001b[0;34m,\u001b[0m \u001b[0;36m9\u001b[0m\u001b[0;34m)\u001b[0m\u001b[0;34m]\u001b[0m\u001b[0;34m\u001b[0m\u001b[0;34m\u001b[0m\u001b[0m\n\u001b[1;32m      4\u001b[0m \u001b[0minterpolate\u001b[0m\u001b[0;34m(\u001b[0m\u001b[0mpoints1\u001b[0m\u001b[0;34m)\u001b[0m\u001b[0;34m\u001b[0m\u001b[0;34m\u001b[0m\u001b[0m\n\u001b[0;32m----> 5\u001b[0;31m \u001b[0minterpolate\u001b[0m\u001b[0;34m(\u001b[0m\u001b[0mpoints2\u001b[0m\u001b[0;34m)\u001b[0m\u001b[0;34m\u001b[0m\u001b[0;34m\u001b[0m\u001b[0m\n\u001b[0m",
      "\u001b[0;32m<ipython-input-173-6ca41987b750>\u001b[0m in \u001b[0;36minterpolate\u001b[0;34m(points)\u001b[0m\n\u001b[1;32m      7\u001b[0m     \u001b[0;32mif\u001b[0m \u001b[0mlen\u001b[0m\u001b[0;34m(\u001b[0m\u001b[0mset\u001b[0m\u001b[0;34m(\u001b[0m\u001b[0mx_values\u001b[0m\u001b[0;34m)\u001b[0m\u001b[0;34m)\u001b[0m \u001b[0;34m<\u001b[0m \u001b[0mlen\u001b[0m\u001b[0;34m(\u001b[0m\u001b[0mx_values\u001b[0m\u001b[0;34m)\u001b[0m\u001b[0;34m:\u001b[0m\u001b[0;34m\u001b[0m\u001b[0;34m\u001b[0m\u001b[0m\n\u001b[1;32m      8\u001b[0m         \u001b[0;32mraise\u001b[0m \u001b[0mValueError\u001b[0m\u001b[0;34m(\u001b[0m\u001b[0;34m'Not all x values are distinct.'\u001b[0m\u001b[0;34m)\u001b[0m\u001b[0;34m\u001b[0m\u001b[0;34m\u001b[0m\u001b[0m\n\u001b[0;32m----> 9\u001b[0;31m     \u001b[0mterms\u001b[0m \u001b[0;34m=\u001b[0m \u001b[0;34m[\u001b[0m\u001b[0msingle_term\u001b[0m\u001b[0;34m(\u001b[0m\u001b[0mpoints\u001b[0m\u001b[0;34m,\u001b[0m \u001b[0mi\u001b[0m\u001b[0;34m)\u001b[0m \u001b[0;32mfor\u001b[0m \u001b[0mi\u001b[0m \u001b[0;32min\u001b[0m \u001b[0mrange\u001b[0m\u001b[0;34m(\u001b[0m\u001b[0;36m0\u001b[0m\u001b[0;34m,\u001b[0m \u001b[0mlen\u001b[0m\u001b[0;34m(\u001b[0m\u001b[0mpoints\u001b[0m\u001b[0;34m)\u001b[0m\u001b[0;34m)\u001b[0m\u001b[0;34m]\u001b[0m\u001b[0;34m\u001b[0m\u001b[0;34m\u001b[0m\u001b[0m\n\u001b[0m\u001b[1;32m     10\u001b[0m \u001b[0;34m\u001b[0m\u001b[0m\n\u001b[1;32m     11\u001b[0m     \u001b[0;32mreturn\u001b[0m \u001b[0msum\u001b[0m\u001b[0;34m(\u001b[0m\u001b[0mterms\u001b[0m\u001b[0;34m,\u001b[0m \u001b[0mZERO\u001b[0m\u001b[0;34m)\u001b[0m\u001b[0;34m\u001b[0m\u001b[0;34m\u001b[0m\u001b[0m\n",
      "\u001b[0;32m<ipython-input-173-6ca41987b750>\u001b[0m in \u001b[0;36m<listcomp>\u001b[0;34m(.0)\u001b[0m\n\u001b[1;32m      7\u001b[0m     \u001b[0;32mif\u001b[0m \u001b[0mlen\u001b[0m\u001b[0;34m(\u001b[0m\u001b[0mset\u001b[0m\u001b[0;34m(\u001b[0m\u001b[0mx_values\u001b[0m\u001b[0;34m)\u001b[0m\u001b[0;34m)\u001b[0m \u001b[0;34m<\u001b[0m \u001b[0mlen\u001b[0m\u001b[0;34m(\u001b[0m\u001b[0mx_values\u001b[0m\u001b[0;34m)\u001b[0m\u001b[0;34m:\u001b[0m\u001b[0;34m\u001b[0m\u001b[0;34m\u001b[0m\u001b[0m\n\u001b[1;32m      8\u001b[0m         \u001b[0;32mraise\u001b[0m \u001b[0mValueError\u001b[0m\u001b[0;34m(\u001b[0m\u001b[0;34m'Not all x values are distinct.'\u001b[0m\u001b[0;34m)\u001b[0m\u001b[0;34m\u001b[0m\u001b[0;34m\u001b[0m\u001b[0m\n\u001b[0;32m----> 9\u001b[0;31m     \u001b[0mterms\u001b[0m \u001b[0;34m=\u001b[0m \u001b[0;34m[\u001b[0m\u001b[0msingle_term\u001b[0m\u001b[0;34m(\u001b[0m\u001b[0mpoints\u001b[0m\u001b[0;34m,\u001b[0m \u001b[0mi\u001b[0m\u001b[0;34m)\u001b[0m \u001b[0;32mfor\u001b[0m \u001b[0mi\u001b[0m \u001b[0;32min\u001b[0m \u001b[0mrange\u001b[0m\u001b[0;34m(\u001b[0m\u001b[0;36m0\u001b[0m\u001b[0;34m,\u001b[0m \u001b[0mlen\u001b[0m\u001b[0;34m(\u001b[0m\u001b[0mpoints\u001b[0m\u001b[0;34m)\u001b[0m\u001b[0;34m)\u001b[0m\u001b[0;34m]\u001b[0m\u001b[0;34m\u001b[0m\u001b[0;34m\u001b[0m\u001b[0m\n\u001b[0m\u001b[1;32m     10\u001b[0m \u001b[0;34m\u001b[0m\u001b[0m\n\u001b[1;32m     11\u001b[0m     \u001b[0;32mreturn\u001b[0m \u001b[0msum\u001b[0m\u001b[0;34m(\u001b[0m\u001b[0mterms\u001b[0m\u001b[0;34m,\u001b[0m \u001b[0mZERO\u001b[0m\u001b[0;34m)\u001b[0m\u001b[0;34m\u001b[0m\u001b[0;34m\u001b[0m\u001b[0m\n",
      "\u001b[0;32m<ipython-input-172-c8d97acda6fa>\u001b[0m in \u001b[0;36msingle_term\u001b[0;34m(points, i)\u001b[0m\n\u001b[1;32m     12\u001b[0m         \u001b[0mthe_term\u001b[0m \u001b[0;34m=\u001b[0m \u001b[0mthe_term\u001b[0m \u001b[0;34m*\u001b[0m \u001b[0mPolynomial\u001b[0m\u001b[0;34m(\u001b[0m\u001b[0;34m[\u001b[0m\u001b[0;34m-\u001b[0m\u001b[0mxj\u001b[0m \u001b[0;34m/\u001b[0m \u001b[0;34m(\u001b[0m\u001b[0mxi\u001b[0m \u001b[0;34m-\u001b[0m \u001b[0mxj\u001b[0m\u001b[0;34m)\u001b[0m\u001b[0;34m,\u001b[0m \u001b[0;36m1\u001b[0m \u001b[0;34m/\u001b[0m \u001b[0;34m(\u001b[0m\u001b[0mxi\u001b[0m \u001b[0;34m-\u001b[0m \u001b[0mxj\u001b[0m\u001b[0;34m)\u001b[0m\u001b[0;34m]\u001b[0m\u001b[0;34m)\u001b[0m\u001b[0;34m\u001b[0m\u001b[0;34m\u001b[0m\u001b[0m\n\u001b[1;32m     13\u001b[0m \u001b[0;34m\u001b[0m\u001b[0m\n\u001b[0;32m---> 14\u001b[0;31m     \u001b[0;32mreturn\u001b[0m \u001b[0mthe_term\u001b[0m \u001b[0;34m*\u001b[0m \u001b[0mPolynomial\u001b[0m\u001b[0;34m(\u001b[0m\u001b[0;34m[\u001b[0m\u001b[0myi\u001b[0m\u001b[0;34m]\u001b[0m\u001b[0;34m)\u001b[0m\u001b[0;34m\u001b[0m\u001b[0;34m\u001b[0m\u001b[0m\n\u001b[0m",
      "\u001b[0;31mTypeError\u001b[0m: can't multiply sequence by non-int of type 'Polynomial'"
     ]
    }
   ],
   "source": [
    "points1 = [(1, 1)]\n",
    "points2 = [(1, 1), (2, 0)]\n",
    "points3 = [(1, 1), (2, 4), (7, 9)]\n",
    "interpolate(points1)\n",
    "interpolate(points2)"
   ]
  },
  {
   "cell_type": "code",
   "execution_count": 122,
   "id": "94d1ebfe-f72f-41e7-984d-7ada0f830ee3",
   "metadata": {},
   "outputs": [
    {
     "name": "stdout",
     "output_type": "stream",
     "text": [
      "[(1, 0), (-2, 1), (0, 0), (3, 3)]\n"
     ]
    }
   ],
   "source": [
    "calculate_list: list[str] = [calculate(c, i) for i, c in enumerate([1, -2, 0, 3])]\n",
    "print(calculate_list)"
   ]
  },
  {
   "cell_type": "code",
   "execution_count": 110,
   "id": "b8bbf1ec-4518-4c1f-aeb8-73c0a7b6bc05",
   "metadata": {
    "tags": []
   },
   "outputs": [
    {
     "name": "stdout",
     "output_type": "stream",
     "text": [
      "[1, 2, 3]\n"
     ]
    }
   ],
   "source": [
    "print(f.coefficients)"
   ]
  },
  {
   "cell_type": "code",
   "execution_count": 4,
   "id": "c4fc23d1-c59c-432d-a8b1-3f194cb79c35",
   "metadata": {},
   "outputs": [
    {
     "data": {
      "text/plain": [
       "'1 + 2x + 3x^2'"
      ]
     },
     "execution_count": 4,
     "metadata": {},
     "output_type": "execute_result"
    }
   ],
   "source": [
    "\"1 + 2x + 3x^2\""
   ]
  },
  {
   "cell_type": "code",
   "execution_count": 19,
   "id": "1131b48f-ec19-4d9c-8c59-d1d369db3163",
   "metadata": {},
   "outputs": [],
   "source": [
    "first: str = \"1\"\n",
    "second: str = \"2\"\n",
    "third: str = \"-3\"\n",
    "    \n",
    "combine: str = first + \" + \" + second + \"x\" + \" + \" + third + \"x^2\""
   ]
  },
  {
   "cell_type": "code",
   "execution_count": 20,
   "id": "d8b72a3f-ad85-4daa-a4c6-9ac6f43846f1",
   "metadata": {},
   "outputs": [
    {
     "name": "stdout",
     "output_type": "stream",
     "text": [
      "1 + 2x + -3x^2\n"
     ]
    }
   ],
   "source": [
    "print(combine)"
   ]
  },
  {
   "cell_type": "code",
   "execution_count": 104,
   "id": "56e56694-4be3-4d73-bcd1-bc13e7d1a8bd",
   "metadata": {},
   "outputs": [
    {
     "name": "stdout",
     "output_type": "stream",
     "text": [
      "['1', '-2x', '', '3x^3']\n"
     ]
    }
   ],
   "source": [
    "coeff_list: list[str] = [display(c, i) for i, c in enumerate([1, -2, 0, 3])]\n",
    "print(coeff_list)"
   ]
  },
  {
   "cell_type": "code",
   "execution_count": 105,
   "id": "1ad7a66c-a78c-438c-92d6-220152e646ff",
   "metadata": {},
   "outputs": [
    {
     "data": {
      "text/plain": [
       "'1 + 2x +  + 3x^3'"
      ]
     },
     "execution_count": 105,
     "metadata": {},
     "output_type": "execute_result"
    }
   ],
   "source": [
    "\" + \".join([display(c, i) for i, c in enumerate([1, 2, 0, 3])])"
   ]
  },
  {
   "cell_type": "code",
   "execution_count": 47,
   "id": "9290a102-67a9-4ae9-9828-989bac5df9b4",
   "metadata": {},
   "outputs": [
    {
     "name": "stdout",
     "output_type": "stream",
     "text": [
      " + 1 - -2x + 3x^2\n"
     ]
    }
   ],
   "source": [
    "p_display: str = \"\".join([(\" - \" if \"-\" in x else \" + \")+x for x in coeff_list])\n",
    "print(p_display)"
   ]
  },
  {
   "cell_type": "code",
   "execution_count": 55,
   "id": "000fec63-632b-4a05-8cbf-cc7b2e3c1597",
   "metadata": {},
   "outputs": [
    {
     "name": "stdout",
     "output_type": "stream",
     "text": [
      "1 + -2x + 3x^2\n"
     ]
    }
   ],
   "source": [
    "p2_display: str = \" + \".join([display(c, i) for i, c in enumerate([1, -2, 3])])\n",
    "print(p2_display)"
   ]
  },
  {
   "cell_type": "code",
   "execution_count": 65,
   "id": "c4edf9a0-f2d1-4075-bf61-13794236733e",
   "metadata": {},
   "outputs": [
    {
     "data": {
      "text/plain": [
       "'1 - 2x + 3x^2'"
      ]
     },
     "execution_count": 65,
     "metadata": {},
     "output_type": "execute_result"
    }
   ],
   "source": [
    "re.sub(r\"\\+ -\", \"- \", p2_display)"
   ]
  },
  {
   "cell_type": "code",
   "execution_count": null,
   "id": "25242eb4-d747-4180-8598-0f5390d94e06",
   "metadata": {},
   "outputs": [],
   "source": []
  }
 ],
 "metadata": {
  "kernelspec": {
   "display_name": "Python 3",
   "language": "python",
   "name": "python3"
  },
  "language_info": {
   "codemirror_mode": {
    "name": "ipython",
    "version": 3
   },
   "file_extension": ".py",
   "mimetype": "text/x-python",
   "name": "python",
   "nbconvert_exporter": "python",
   "pygments_lexer": "ipython3",
   "version": "3.9.4"
  }
 },
 "nbformat": 4,
 "nbformat_minor": 5
}
