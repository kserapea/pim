{
 "cells": [
  {
   "cell_type": "markdown",
   "id": "158f51ec-18e5-4e95-ba9c-cf4d4532e179",
   "metadata": {},
   "source": [
    "# Chapter 2 Polynomials: Exercises\n",
    "This notebook is for us to work through the exercises and proofs at the end of chapter 2."
   ]
  },
  {
   "cell_type": "code",
   "execution_count": 2,
   "id": "76e7eb4e-6e6a-494a-8819-5749f18913e6",
   "metadata": {},
   "outputs": [],
   "source": [
    "import numpy as np\n",
    "from typing import List, Dict, Callable"
   ]
  },
  {
   "cell_type": "markdown",
   "id": "7ae5b224-00ad-4f7e-bf27-cc0fd340c3f5",
   "metadata": {},
   "source": [
    "## Exercise 2.1 Proofs\n",
    "\n",
    "### 1. If $f$ is a degree 2 polynomial and $g$ is a degree 1 polynomial then their product $f \\cdot g$ is a degree 3 polynomial\n",
    "\n",
    "\n"
   ]
  },
  {
   "cell_type": "markdown",
   "id": "7e36756d-deb5-4ff1-95bf-acf849912bf7",
   "metadata": {},
   "source": [
    "$$f(x) = a_0 + a_1 x + a_2 x^2$$\n",
    "\n",
    "$$g(x) = b_0 +b_1 x$$"
   ]
  },
  {
   "cell_type": "markdown",
   "id": "42b318eb-d5c6-4940-9258-8ffb2db5c8c3",
   "metadata": {},
   "source": [
    "\\begin{align}\n",
    "f(x) \\cdot g(x) &= (a_0 + a_1 x + a_2 x^2)(b_0 + b_1 x) \\\\\n",
    "&= (a_0)(b_0 + b_1 x) + (a_1 x)(b_0 + b_1 x) + (a_2 x^2)(b_0 + b_1 x) \\\\\n",
    "&= a_0 b_0 + a_0 b_1 x + a_1 b_0 x + a_1 b_1 x^2 + a_2 b_0 x^2 + a_2 b_1 x^3 \\\\\n",
    "&= a_0 b_0 + (a_0 b_1 + a_1 b_0)x + (a_1 b_1 + a_2 b_0)x^2 + a_2 b_1 x^3\n",
    "\\end{align}"
   ]
  },
  {
   "cell_type": "markdown",
   "id": "211802f2-b0d1-4de5-b555-c6efc297ee3b",
   "metadata": {},
   "source": [
    "### 2. If $f$ is a degree $n$ polynomial and $g$ is a degree $m$ polynomial then their product $ f \\cdot g$ is a degree $n+m$ polynomial."
   ]
  },
  {
   "cell_type": "markdown",
   "id": "edfb0eb0-1d27-43b9-82e1-caa0959268b3",
   "metadata": {},
   "source": [
    "\\begin{align}\n",
    "f(x) &= \\Sigma_{i=0}^{n} a_i x^i \\\\\n",
    "g(x) &= \\Sigma_{j=0}^{m} b_j x^j \\\\\n",
    "f(x) \\cdot g(x) &= \\Sigma_{i=0}^{n} a_i x^i \\cdot \\Sigma_{j=0}^{m} b_j x^j \\\\\n",
    "\\end{align}"
   ]
  },
  {
   "cell_type": "markdown",
   "id": "558f5a7c-71cf-4109-9b6e-0c3e96f26038",
   "metadata": {},
   "source": [
    "The degree of the polynomial is the integer $n$, where $n$ is the largest exponent. Therefore, $f(x)$ must contain the term $a_n x^n$ and $g(x)$ must contain the term $b_m x^m$."
   ]
  },
  {
   "cell_type": "markdown",
   "id": "50275086-6439-436d-9f59-3cdefbd92248",
   "metadata": {},
   "source": [
    "Then, $f(x) \\cdot g(x)$ must contain the term $a_n x^n b_m x^m = a_n b_m x^{n+m}$."
   ]
  },
  {
   "cell_type": "markdown",
   "id": "40278dea-9ae9-4662-8ac9-3033537eba4e",
   "metadata": {},
   "source": [
    "There is no other exponent that is larger than $n + m$ because for all $i \\le n$ and for all $j \\le m$, $ i + j \\le n + m $"
   ]
  },
  {
   "cell_type": "markdown",
   "id": "c0370e82-d19f-4621-bcc9-5e404b2dc1ea",
   "metadata": {},
   "source": [
    "### 3. If $f$ or $g$ are a zero polynomial, and the convention is the degree of -1, then is their product $f \\cdot g$ is a degree $-1 + m$ polynomial?\n",
    "\n",
    "\\begin{align}\n",
    "f(x) &= a_0 \\\\\n",
    "g(x) &= \\Sigma_{j=0}^{m} b_j x^j\n",
    "\\end{align}\n",
    "\n",
    "No, their product is a degree $m$ polynomial; the convention should be that a zero polynomial has a degree of $0$.\n"
   ]
  },
  {
   "cell_type": "markdown",
   "id": "47daf075-43ae-4d8a-955a-23c5e8b6c480",
   "metadata": {},
   "source": [
    "### 4. Prove that if $f$ and $g$ have different degrees, $f$ $\\neq$ $g$"
   ]
  },
  {
   "cell_type": "markdown",
   "id": "b375b2b2-f977-47b0-a679-dbb7de01c7d5",
   "metadata": {},
   "source": [
    "\\begin{align}\n",
    "f(x) &= \\Sigma_{i=0}^{n} a_i x^i \\\\\n",
    "g(x) &= \\Sigma_{j=0}^{m} b_j x^j \\\\\n",
    "\\end{align}\n",
    "\n",
    "$ n \\neq m $\n",
    "\n",
    "$a_n \\neq 0$ and $b_m \\neq 0$\n",
    "\n",
    "Could we prove by seeing if they ever could be equal?\n",
    "\n",
    "If $f = g$, $\\Sigma_{i=0}^{n} a_i x^i = \\Sigma_{j=0}^{m} b_j x^j$\n",
    "\n",
    "If n = 1 and m = 2,\n",
    "\n",
    "$a_0 + a_1 x = b_0 + b_1 x + b_2 x^2$\n",
    "\n",
    "$b_2 x^2 + (b_1 - a_1)x + (b_0 - a_0) = 0$  "
   ]
  },
  {
   "cell_type": "code",
   "execution_count": null,
   "id": "41f0ba3e-58d1-4a3f-b56c-2376375f9c0f",
   "metadata": {},
   "outputs": [],
   "source": []
  }
 ],
 "metadata": {
  "kernelspec": {
   "display_name": "Python 3",
   "language": "python",
   "name": "python3"
  },
  "language_info": {
   "codemirror_mode": {
    "name": "ipython",
    "version": 3
   },
   "file_extension": ".py",
   "mimetype": "text/x-python",
   "name": "python",
   "nbconvert_exporter": "python",
   "pygments_lexer": "ipython3",
   "version": "3.9.4"
  }
 },
 "nbformat": 4,
 "nbformat_minor": 5
}
