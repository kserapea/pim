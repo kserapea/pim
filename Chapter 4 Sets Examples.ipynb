{
 "cells": [
  {
   "cell_type": "markdown",
   "id": "2402a7e7-ec5e-49b6-9cac-8e8ccc1acb3b",
   "metadata": {},
   "source": [
    "# Chapter 4 Sets: Notes and Examples\n",
    "This notebook is for us to take notes and provide concrete examples to help solidify the concepts, notations, and definitions presented in Chapter 4."
   ]
  },
  {
   "cell_type": "markdown",
   "id": "0a746894-215f-43e5-8a94-cc40d37ee7b1",
   "metadata": {},
   "source": [
    "#### Definition 4.1 - Cardinality\n",
    "$cardinality$ or $size$ of set $A$\n",
    "\n",
    "denoted $\\vert A \\vert$\n",
    "\n",
    "- a set with no elements is an $empty$ set\n",
    "- infinite cardinality is when the number of elements is finite\n"
   ]
  },
  {
   "cell_type": "markdown",
   "id": "9e65552d-f9a3-4536-8c0d-f53b081046af",
   "metadata": {},
   "source": [
    "#### Definition 4.2 - Subset\n",
    "a set $B$ is a $subset$ of another set $A$ if every element $b \\in B$ is also an element of $A$\n",
    "\n",
    "denoted $ B \\subset A$\n",
    "\n",
    "- example: the set of integers divisible by 57 is a subset of the integers divisible by 3\n",
    "\n",
    "denoted $A = \\{x: x \\in A, x$ is divisible by $57\\}$ and $B = \\{y: y \\in B, y$ is divisible by $3\\}$\n",
    "\n",
    "$A \\subset B$\n"
   ]
  },
  {
   "cell_type": "markdown",
   "id": "bf9bd223-e518-4d70-a5f3-0a678a49368d",
   "metadata": {},
   "source": [
    "#### Definition 4.3 - Complement\n",
    "\n",
    "The $complement$ of $B$ in $A$ is the set $\\{a \\in A: a \\notin B\\}$\n",
    "\n",
    "denoted $A \\backslash B$\n",
    "\n",
    "\n",
    "\n"
   ]
  },
  {
   "cell_type": "markdown",
   "id": "0b03b3db-14eb-465a-ad0a-b2ebc8533098",
   "metadata": {},
   "source": [
    "#### Definition 4.4 - Union and Intersection\n",
    "\n",
    "The $union$ of $A$ and $B$ is the set $\\{x: x \\in A \\, or \\, x \\in B\\}$\n",
    "\n",
    "denoted $A \\cup B$\n",
    "\n",
    "The $intersection$ of $A$ and $B$ is the set $\\{x: x \\in A \\, and \\, x \\in B\\}$\n",
    "\n",
    "denoted $A \\cap B$\n",
    "\n",
    "\n"
   ]
  },
  {
   "cell_type": "markdown",
   "id": "57a1321c-e7cb-4cd5-a409-17d9f2988d2c",
   "metadata": {},
   "source": [
    "#### Definition 4.5 - Product\n",
    "\n",
    "The $product$ of $A$ and $B$ is the set of all ordered pairs of elements in $A$ and elements in $B$ \n",
    "\n",
    "$A \\times B = \\{(a, \\, b): a \\in A \\, and \\, b \\in B\\}$\n"
   ]
  },
  {
   "cell_type": "markdown",
   "id": "a91b482a-7434-4bab-9846-9b1fd8d9befd",
   "metadata": {},
   "source": [
    "#### Definition 4.6 - Function\n",
    "\n",
    "$F$ is a $function$ is for each $ a \\in A$ there is a unique pair $(a,b) \\in F$\n",
    "\n",
    "$A$ is the domain of $F$ and $B$ is the codomain of $F$\n",
    "\n",
    "denoted $F: A \\rightarrow B$\n",
    "\n",
    "example:\n",
    "\n",
    "$$F = \\{(1,1),(2,4),(3,9),(4,16),...\\} = \\{(x,x^2): x \\in \\Bbb N \\}$$\n"
   ]
  },
  {
   "cell_type": "markdown",
   "id": "fb4373fd-5f56-4d9d-b315-82120dcc4d54",
   "metadata": {},
   "source": [
    "#### Definition 4.7 - Image\n",
    "\n",
    "the $image$ of $f$ is the set \n",
    "$$f(A) = \\{f(a): a \\in A\\}$$\n",
    "\n",
    "\n"
   ]
  },
  {
   "cell_type": "markdown",
   "id": "6a893c94-b797-447c-9c55-c57a5a2ed81e",
   "metadata": {},
   "source": [
    "#### Definition 4.8 - Preimage\n",
    "\n",
    "the $preimage$ of $b$ under $f$, denoted $f^{-1}(b)$ is the set \n",
    "$$\\{a \\in A: f(a) = b\\}$$\n",
    "\n",
    "the preimage of $F(4)$ for the function $F(x) = x^2$ is {-2, 2}"
   ]
  },
  {
   "cell_type": "markdown",
   "id": "8923eded-6f34-493f-ae84-4e157dcbd643",
   "metadata": {},
   "source": [
    "#### Definition 4.9 - Injection\n",
    "\n",
    "different inputs are mapped to different outputs.\n",
    "\n",
    "$F(x) = x^2$ is injective for all positive integers (natural numbers; denoted $\\Bbb N$)\n",
    "\n",
    "\n",
    "$F(x) = x^2$ is NOT injective for all integers (denoted $\\Bbb Z$)\n",
    "\n"
   ]
  },
  {
   "cell_type": "markdown",
   "id": "289a9cdb-0360-44b5-bdc6-824899832588",
   "metadata": {},
   "source": [
    "#### Definition 4.10 - Surjection & Bijection\n",
    "\n",
    "$surjection$ everything in set $B$ is \"hit\" by an input from set $A$\n",
    "\n",
    "$bijection$ is both a surjection and an injection\n",
    "\n"
   ]
  },
  {
   "cell_type": "code",
   "execution_count": null,
   "id": "324b5dc9-d16a-4780-a2a9-9827b4caea8a",
   "metadata": {},
   "outputs": [],
   "source": []
  }
 ],
 "metadata": {
  "kernelspec": {
   "display_name": "Python 3",
   "language": "python",
   "name": "python3"
  },
  "language_info": {
   "codemirror_mode": {
    "name": "ipython",
    "version": 3
   },
   "file_extension": ".py",
   "mimetype": "text/x-python",
   "name": "python",
   "nbconvert_exporter": "python",
   "pygments_lexer": "ipython3",
   "version": "3.9.4"
  }
 },
 "nbformat": 4,
 "nbformat_minor": 5
}
